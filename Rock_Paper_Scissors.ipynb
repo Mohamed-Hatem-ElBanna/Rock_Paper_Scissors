{
 "cells": [
  {
   "cell_type": "code",
   "execution_count": 2,
   "metadata": {},
   "outputs": [
    {
     "name": "stdout",
     "output_type": "stream",
     "text": [
      "(r)ock, (p)aper, (s)cissors ??  r\n",
      "Paper\n",
      "you LOSE\n",
      "Score: User 0    PC 1\n",
      "Do you want to play again? (y/n)  n\n"
     ]
    }
   ],
   "source": [
    "from random import randint as k\n",
    "s_user = 0    #user score\n",
    "s_pc = 0      #PC score\n",
    "while True:   # Loops forever\n",
    "    user = input('(r)ock, (p)aper, (s)cissors ??  ')   #User picks his choice\n",
    "    pc = k(0,2)     #PC Picks a random choice\n",
    "    \n",
    "    #Determine the winner and update score\n",
    "    if pc == 0:\n",
    "        print('Rock')\n",
    "        if user == 'r':\n",
    "            print ('DRAW')\n",
    "        elif user == 'p':\n",
    "            print ('you WIN')\n",
    "            s_user +=1\n",
    "        elif user == 's':\n",
    "            print ('you LOSE')\n",
    "            s_pc +=1\n",
    "    elif pc == 1:\n",
    "        print('Paper')\n",
    "        if user == 'p':\n",
    "            print ('DRAW')\n",
    "        elif user == 's':\n",
    "            print ('you WIN')\n",
    "            s_user +=1\n",
    "        elif user == 'r':\n",
    "            print ('you LOSE')\n",
    "            s_pc +=1\n",
    "    elif pc == 2:\n",
    "        print('Scissors')\n",
    "        if user == 's':\n",
    "            print ('DRAW')\n",
    "        elif user == 'r':\n",
    "            print ('you WIN')\n",
    "            s_user +=1\n",
    "        elif user == 'p':\n",
    "            print ('you LOSE')\n",
    "            s_pc +=1\n",
    "    print('Score: User {}    PC {}'.format(s_user,s_pc))    #Print scores\n",
    "    choice = input('Do you want to play again? (y/n)  ')\n",
    "    if choice == 'y':\n",
    "        continue    \n",
    "    elif choice =='n':\n",
    "        break    #exit loop (terminates program)"
   ]
  },
  {
   "cell_type": "code",
   "execution_count": null,
   "metadata": {
    "collapsed": true
   },
   "outputs": [],
   "source": []
  }
 ],
 "metadata": {
  "kernelspec": {
   "display_name": "Python 3",
   "language": "python",
   "name": "python3"
  },
  "language_info": {
   "codemirror_mode": {
    "name": "ipython",
    "version": 3
   },
   "file_extension": ".py",
   "mimetype": "text/x-python",
   "name": "python",
   "nbconvert_exporter": "python",
   "pygments_lexer": "ipython3",
   "version": "3.6.1"
  }
 },
 "nbformat": 4,
 "nbformat_minor": 2
}
